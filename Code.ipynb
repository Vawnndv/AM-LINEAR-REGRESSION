{
 "cells": [
  {
   "cell_type": "markdown",
   "metadata": {},
   "source": [
    "# <center>Đồ án 3: Linear Regression</center>"
   ]
  },
  {
   "cell_type": "markdown",
   "metadata": {},
   "source": [
    "# Thông tin sinh viên\n",
    "\n",
    "- Họ và tên: Nguyễn Đình Văn\n",
    "- MSSV: 20127662\n",
    "- Lớp: 20CLC02"
   ]
  },
  {
   "cell_type": "markdown",
   "metadata": {},
   "source": [
    "# Import"
   ]
  },
  {
   "cell_type": "code",
   "execution_count": 85,
   "metadata": {},
   "outputs": [],
   "source": [
    "import pandas as pd\n",
    "import numpy as np\n",
    "import sklearn\n",
    "# Import thêm dữ thư viện nếu cần"
   ]
  },
  {
   "cell_type": "markdown",
   "metadata": {},
   "source": [
    "# Đọc dữ liệu"
   ]
  },
  {
   "cell_type": "code",
   "execution_count": 86,
   "metadata": {},
   "outputs": [],
   "source": [
    "# Đọc dữ liệu bằng pandas\n",
    "train = pd.read_csv('train.csv')\n",
    "test = pd.read_csv('test.csv')\n",
    "\n",
    "# Lấy các đặc trưng X và giá trị mục tiêu y cho các tập huấn luyện (train) và kiểm tra (test)\n",
    "X_train = train.iloc[:, :-1]    # Dataframe (chứa 10 đặc trưng huấn luyện)\n",
    "y_train = train.iloc[:, -1]     # Series    (chứa 1 giá trị mục tiêu kiểm tra)\n",
    "\n",
    "X_test = test.iloc[:, :-1]      # Dataframe (chứa 10 đặc trưng kiểm tra)\n",
    "y_test = test.iloc[:, -1]       # Series    (chứa 1 giá trị mục tiêu kiểm tra)\n",
    "\n",
    "listFreature = ['Adult Mortality', 'BMI', 'Polio', 'Diphtheria', 'HIV/AIDS', 'GDP', 'Thinness age 10-19', 'Thinness age 5-9', 'Income composition of resources', 'Schooling']\n",
    "listModel = ['Sử dụng 2 đặc trưng (Adult Mortality, Schooling)', 'Sử dụng 3 đặc trưng (Adult Mortality, BMI, Schooling)', 'Sử dụng 2 đặc trưng (Adult Mortality, Schooling^2)']\n",
    "# Sinh viên có thể sử dụng các khác nếu cần"
   ]
  },
  {
   "cell_type": "markdown",
   "metadata": {},
   "source": [
    "# Cài đặt hàm"
   ]
  },
  {
   "cell_type": "code",
   "execution_count": 87,
   "metadata": {},
   "outputs": [],
   "source": [
    "# Cài đặt các hàm cần thiết ở đây\n",
    "class OLSLinearRegression:\n",
    "    def fit(self, X, y):\n",
    "        X_pinv = np.linalg.inv(X.T @ X) @ X.T    # np.linalg.pinv(X)\n",
    "        self.w = X_pinv @ y\n",
    "\n",
    "        return self\n",
    "\n",
    "    def get_params(self):\n",
    "        return self.w\n",
    "\n",
    "    def predict(self, X):     \n",
    "        return np.sum(self.w.ravel() * X, axis=1)   \n",
    "\n",
    "def rmse(y, y_hat):\n",
    "    return np.sqrt(np.mean((y.ravel() - y_hat.ravel())**2))\n",
    "\n",
    "def find_best_feature ():\n",
    "    # Xáo trộn \n",
    "    train_ = sklearn.utils.shuffle(train)\n",
    "    train_ = train_.reset_index(drop = True)\n",
    "    X_train_clone = train_.iloc[:, :-1]    # Dataframe (chứa 10 đặc trưng huấn luyện)\n",
    "    y_train_clone = train_.iloc[:, -1]     # Series    (chứa 1 giá trị mục tiêu kiểm tra)\n",
    "\n",
    "    RMSE_feature = list()\n",
    "    for i in range(10):\n",
    "        X_train_feature = X_train_clone.iloc[:,i].copy()\n",
    "        y_train_feature = y_train_clone.copy()\n",
    "        RMSE_ = 0\n",
    "        for j in range(5):\n",
    "            start = j * ((len(X_train_feature)) // 5) \n",
    "            end = (j + 1) * ((len(X_train_feature)) // 5)\n",
    "            X_train_feature_ = X_train_feature.drop(X_train_feature.index[start:end])\n",
    "            X_train_feature_ = X_train_feature_.reset_index(drop = True)\n",
    "\n",
    "            Y_train_feature_ = y_train_feature.drop(y_train_feature.index[start:end])\n",
    "            Y_train_feature_ = Y_train_feature_.reset_index(drop = True)\n",
    "\n",
    "            X_val = X_train_feature[start:end].values.reshape(-1, 1)\n",
    "            Y_val = y_train_feature[start:end].copy()\n",
    "\n",
    "            lm = OLSLinearRegression()\n",
    "            lm.fit(X_train_feature_.values.reshape(-1, 1), Y_train_feature_)\n",
    "            y_pred = lm.predict(X_val)\n",
    "            RMSE_ += rmse(Y_val, y_pred)\n",
    "\n",
    "        RMSE_feature.append(RMSE_ / 5)\n",
    "    return RMSE_feature\n",
    "\n",
    "def find_best_model ():\n",
    "    #Xáo trộn \n",
    "    train_ = sklearn.utils.shuffle(train)\n",
    "    train_ = train_.reset_index(drop = True)\n",
    "    X_train_clone = train_.iloc[:, :-1]    # Dataframe (chứa 10 đặc trưng huấn luyện)\n",
    "    y_train_clone = train_.iloc[:, -1]     # Series    (chứa 1 giá trị mục tiêu kiểm tra)\n",
    "    \n",
    "    RMSE_model = list()\n",
    "    X_train_1 = X_train_clone.iloc[:, [0,9]].copy()\n",
    "    y_train_1 = y_train_clone.copy()\n",
    "\n",
    "    X_train_2 = X_train_clone.iloc[:, [0,1,9]].copy()\n",
    "    y_train_2 = y_train_clone.copy()\n",
    "\n",
    "    X_train_3 = X_train_clone.iloc[:, [0,9]].copy()\n",
    "    X_train_3.iloc[:,1] = X_train_3.iloc[:, 1] * X_train_3.iloc[:, 1]\n",
    "    y_train_3 = y_train_clone.copy()\n",
    "\n",
    "    #print(X_train_3, y_train_3)\n",
    "    RMSE_1 = 0\n",
    "    RMSE_2 = 0\n",
    "    RMSE_3 = 0\n",
    "    for i in range(5):\n",
    "        start = i * ((len(X_train_1)) // 5) \n",
    "        end = (i + 1) * ((len(X_train_1)) // 5)\n",
    "\n",
    "        X_train_1_ = X_train_1.drop(X_train_1.index[start:end])\n",
    "        X_train_1_ = X_train_1_.reset_index(drop = True)\n",
    "        Y_train_1_ = y_train_1.drop(y_train_1.index[start:end])\n",
    "        Y_train_1_ = Y_train_1_.reset_index(drop = True)\n",
    "        X_val_1 = X_train_1[start:end]\n",
    "        Y_val_1 = y_train_1[start:end].copy()\n",
    "\n",
    "        X_train_2_ = X_train_2.drop(X_train_2.index[start:end])\n",
    "        X_train_2_ = X_train_2_.reset_index(drop = True)\n",
    "        Y_train_2_ = y_train_2.drop(y_train_2.index[start:end])\n",
    "        Y_train_2_ = Y_train_2_.reset_index(drop = True)\n",
    "        X_val_2 = X_train_2[start:end]\n",
    "        Y_val_2 = y_train_2[start:end].copy()\n",
    "\n",
    "        X_train_3_ = X_train_3.drop(X_train_3.index[start:end])\n",
    "        X_train_3_ = X_train_3_.reset_index(drop = True)\n",
    "        Y_train_3_ = y_train_3.drop(y_train_3.index[start:end])\n",
    "        Y_train_3_ = Y_train_3_.reset_index(drop = True)\n",
    "        X_val_3 = X_train_3[start:end]\n",
    "        Y_val_3 = y_train_3[start:end].copy()\n",
    "\n",
    "        lm_1 = OLSLinearRegression()\n",
    "        lm_1.fit(X_train_1_, Y_train_1_)\n",
    "        y_pred_1 = lm_1.predict(X_val_1)\n",
    "        RMSE_1 += rmse(Y_val_1, y_pred_1)\n",
    "        \n",
    "        lm_2 = OLSLinearRegression()\n",
    "        lm_2.fit(X_train_2_, Y_train_2_)\n",
    "        y_pred_2 = lm_2.predict(X_val_2)\n",
    "        RMSE_2 += rmse(Y_val_2, y_pred_2)\n",
    "        \n",
    "        lm_3 = OLSLinearRegression()\n",
    "        lm_3.fit(X_train_3_, Y_train_3_)\n",
    "        y_pred_3 = lm_3.predict(X_val_3)\n",
    "        RMSE_3 += rmse(Y_val_3, y_pred_3)\n",
    "        \n",
    "    RMSE_model.append(RMSE_1 / 5)\n",
    "    RMSE_model.append(RMSE_2 / 5)\n",
    "    RMSE_model.append(RMSE_3 / 5)\n",
    "    return RMSE_model\n"
   ]
  },
  {
   "cell_type": "markdown",
   "metadata": {},
   "source": [
    "# Yêu cầu 1a: Sử dụng toàn bộ 10 đặc trưng đề bài cung cấp (2 điểm) "
   ]
  },
  {
   "cell_type": "code",
   "execution_count": 88,
   "metadata": {},
   "outputs": [],
   "source": [
    "# Phần code cho yêu cầu \n",
    "# 1a\n",
    "lm = OLSLinearRegression()\n",
    "lm.fit(X_train, y_train)    \n",
    "y_pred = lm.predict(X_test) \n",
    "hs = lm.get_params()            "
   ]
  },
  {
   "cell_type": "code",
   "execution_count": 89,
   "metadata": {},
   "outputs": [
    {
     "data": {
      "text/plain": [
       "7.06404643058411"
      ]
     },
     "execution_count": 89,
     "metadata": {},
     "output_type": "execute_result"
    }
   ],
   "source": [
    "# Gọi hàm RMSE (tự cài đặt hoặc từ thư viện) trên tập kiểm tra\n",
    "rmse(y_test, y_pred)"
   ]
  },
  {
   "cell_type": "code",
   "execution_count": 90,
   "metadata": {},
   "outputs": [
    {
     "name": "stdout",
     "output_type": "stream",
     "text": [
      "Life expectancy = \n",
      "Adult Mortality  *  0.015101362735293323  + \n",
      "BMI  *  0.09021998065777065  + \n",
      "Polio  *  0.04292181752550481  + \n",
      "Diphtheria  *  0.13928911689487952  + \n",
      "HIV/AIDS  *  -0.567332827088243  + \n",
      "GDP  *  -0.00010076511487489812  + \n",
      "Thinness age 10-19  *  0.740713437758729  + \n",
      "Thinness age 5-9  *  0.1909357976739552  + \n",
      "Income composition of resources  *  24.505973591152646  + \n",
      "Schooling  *  2.3935166078326415\n"
     ]
    }
   ],
   "source": [
    "print('Life expectancy = ')\n",
    "for i in range(len(hs)):\n",
    "    if i != len(hs) - 1:\n",
    "        print(listFreature[i],' * ', hs[i], ' + ')\n",
    "    else:\n",
    "        print(listFreature[i],' * ', hs[i])"
   ]
  },
  {
   "cell_type": "markdown",
   "metadata": {},
   "source": [
    "Công thức hồi quy\n",
    "\n",
    "$$\\text{Life expectancy} = {Adult Mortality} * 0.015101 + {BMI} * 0.090220 + {Polio} * 0.042922 + {Diphtheria} * 0.139289 - {HIV/AIDS} * 0.567333$$\n",
    "$$\\text - {GDP} *\n",
    " 0.000101 + {Thinness age 10-19} * 0.740713 + {Thinness age 5-9} * 0.190936 + {Income composition of resources} * 24.505974 $$\n",
    "$$\\text - {GDP} + {Schooling} * 2.393517$$"
   ]
  },
  {
   "cell_type": "markdown",
   "metadata": {},
   "source": [
    "# Yêu cầu 1b: Xây dựng mô hình sử dụng duy nhất 1 đặc trưng, tìm mô hình cho kết quả tốt nhất (2 điểm)"
   ]
  },
  {
   "cell_type": "markdown",
   "metadata": {},
   "source": [
    "Lưu ý: khi sử dụng cross-validation, sinh viên cần xáo trộn dữ liệu 1 lần duy nhất và thực hiện trên toàn bộ đặc trưng"
   ]
  },
  {
   "cell_type": "code",
   "execution_count": 91,
   "metadata": {},
   "outputs": [
    {
     "data": {
      "text/html": [
       "<style  type=\"text/css\" >\n",
       "    #T_bd9366be_1260_11ed_b82b_acd56456cfd4 th {\n",
       "          text-align: center;\n",
       "    }#T_bd9366be_1260_11ed_b82b_acd56456cfd4row0_col0,#T_bd9366be_1260_11ed_b82b_acd56456cfd4row0_col1,#T_bd9366be_1260_11ed_b82b_acd56456cfd4row1_col0,#T_bd9366be_1260_11ed_b82b_acd56456cfd4row1_col1,#T_bd9366be_1260_11ed_b82b_acd56456cfd4row2_col0,#T_bd9366be_1260_11ed_b82b_acd56456cfd4row2_col1,#T_bd9366be_1260_11ed_b82b_acd56456cfd4row3_col0,#T_bd9366be_1260_11ed_b82b_acd56456cfd4row3_col1,#T_bd9366be_1260_11ed_b82b_acd56456cfd4row4_col0,#T_bd9366be_1260_11ed_b82b_acd56456cfd4row4_col1,#T_bd9366be_1260_11ed_b82b_acd56456cfd4row5_col0,#T_bd9366be_1260_11ed_b82b_acd56456cfd4row5_col1,#T_bd9366be_1260_11ed_b82b_acd56456cfd4row6_col0,#T_bd9366be_1260_11ed_b82b_acd56456cfd4row6_col1,#T_bd9366be_1260_11ed_b82b_acd56456cfd4row7_col0,#T_bd9366be_1260_11ed_b82b_acd56456cfd4row7_col1,#T_bd9366be_1260_11ed_b82b_acd56456cfd4row8_col0,#T_bd9366be_1260_11ed_b82b_acd56456cfd4row8_col1,#T_bd9366be_1260_11ed_b82b_acd56456cfd4row9_col0,#T_bd9366be_1260_11ed_b82b_acd56456cfd4row9_col1{\n",
       "            text-align:  center;\n",
       "        }</style><table id=\"T_bd9366be_1260_11ed_b82b_acd56456cfd4\" ><thead>    <tr>        <th class=\"blank level0\" ></th>        <th class=\"col_heading level0 col0\" >Đặc trưng</th>        <th class=\"col_heading level0 col1\" >RMSE</th>    </tr></thead><tbody>\n",
       "                <tr>\n",
       "                        <th id=\"T_bd9366be_1260_11ed_b82b_acd56456cfd4level0_row0\" class=\"row_heading level0 row0\" >0</th>\n",
       "                        <td id=\"T_bd9366be_1260_11ed_b82b_acd56456cfd4row0_col0\" class=\"data row0 col0\" >Adult Mortality</td>\n",
       "                        <td id=\"T_bd9366be_1260_11ed_b82b_acd56456cfd4row0_col1\" class=\"data row0 col1\" >46.255502</td>\n",
       "            </tr>\n",
       "            <tr>\n",
       "                        <th id=\"T_bd9366be_1260_11ed_b82b_acd56456cfd4level0_row1\" class=\"row_heading level0 row1\" >1</th>\n",
       "                        <td id=\"T_bd9366be_1260_11ed_b82b_acd56456cfd4row1_col0\" class=\"data row1 col0\" >BMI</td>\n",
       "                        <td id=\"T_bd9366be_1260_11ed_b82b_acd56456cfd4row1_col1\" class=\"data row1 col1\" >27.945633</td>\n",
       "            </tr>\n",
       "            <tr>\n",
       "                        <th id=\"T_bd9366be_1260_11ed_b82b_acd56456cfd4level0_row2\" class=\"row_heading level0 row2\" >2</th>\n",
       "                        <td id=\"T_bd9366be_1260_11ed_b82b_acd56456cfd4row2_col0\" class=\"data row2 col0\" >Polio</td>\n",
       "                        <td id=\"T_bd9366be_1260_11ed_b82b_acd56456cfd4row2_col1\" class=\"data row2 col1\" >18.002597</td>\n",
       "            </tr>\n",
       "            <tr>\n",
       "                        <th id=\"T_bd9366be_1260_11ed_b82b_acd56456cfd4level0_row3\" class=\"row_heading level0 row3\" >3</th>\n",
       "                        <td id=\"T_bd9366be_1260_11ed_b82b_acd56456cfd4row3_col0\" class=\"data row3 col0\" >Diphtheria</td>\n",
       "                        <td id=\"T_bd9366be_1260_11ed_b82b_acd56456cfd4row3_col1\" class=\"data row3 col1\" >15.818975</td>\n",
       "            </tr>\n",
       "            <tr>\n",
       "                        <th id=\"T_bd9366be_1260_11ed_b82b_acd56456cfd4level0_row4\" class=\"row_heading level0 row4\" >4</th>\n",
       "                        <td id=\"T_bd9366be_1260_11ed_b82b_acd56456cfd4row4_col0\" class=\"data row4 col0\" >HIV/AIDS</td>\n",
       "                        <td id=\"T_bd9366be_1260_11ed_b82b_acd56456cfd4row4_col1\" class=\"data row4 col1\" >67.133479</td>\n",
       "            </tr>\n",
       "            <tr>\n",
       "                        <th id=\"T_bd9366be_1260_11ed_b82b_acd56456cfd4level0_row5\" class=\"row_heading level0 row5\" >5</th>\n",
       "                        <td id=\"T_bd9366be_1260_11ed_b82b_acd56456cfd4row5_col0\" class=\"data row5 col0\" >GDP</td>\n",
       "                        <td id=\"T_bd9366be_1260_11ed_b82b_acd56456cfd4row5_col1\" class=\"data row5 col1\" >60.197120</td>\n",
       "            </tr>\n",
       "            <tr>\n",
       "                        <th id=\"T_bd9366be_1260_11ed_b82b_acd56456cfd4level0_row6\" class=\"row_heading level0 row6\" >6</th>\n",
       "                        <td id=\"T_bd9366be_1260_11ed_b82b_acd56456cfd4row6_col0\" class=\"data row6 col0\" >Thinness age 10-19</td>\n",
       "                        <td id=\"T_bd9366be_1260_11ed_b82b_acd56456cfd4row6_col1\" class=\"data row6 col1\" >51.958819</td>\n",
       "            </tr>\n",
       "            <tr>\n",
       "                        <th id=\"T_bd9366be_1260_11ed_b82b_acd56456cfd4level0_row7\" class=\"row_heading level0 row7\" >7</th>\n",
       "                        <td id=\"T_bd9366be_1260_11ed_b82b_acd56456cfd4row7_col0\" class=\"data row7 col0\" >Thinness age 5-9</td>\n",
       "                        <td id=\"T_bd9366be_1260_11ed_b82b_acd56456cfd4row7_col1\" class=\"data row7 col1\" >51.778342</td>\n",
       "            </tr>\n",
       "            <tr>\n",
       "                        <th id=\"T_bd9366be_1260_11ed_b82b_acd56456cfd4level0_row8\" class=\"row_heading level0 row8\" >8</th>\n",
       "                        <td id=\"T_bd9366be_1260_11ed_b82b_acd56456cfd4row8_col0\" class=\"data row8 col0\" >Income composition of resources</td>\n",
       "                        <td id=\"T_bd9366be_1260_11ed_b82b_acd56456cfd4row8_col1\" class=\"data row8 col1\" >13.321415</td>\n",
       "            </tr>\n",
       "            <tr>\n",
       "                        <th id=\"T_bd9366be_1260_11ed_b82b_acd56456cfd4level0_row9\" class=\"row_heading level0 row9\" >9</th>\n",
       "                        <td id=\"T_bd9366be_1260_11ed_b82b_acd56456cfd4row9_col0\" class=\"data row9 col0\" >Schooling</td>\n",
       "                        <td id=\"T_bd9366be_1260_11ed_b82b_acd56456cfd4row9_col1\" class=\"data row9 col1\" >11.783812</td>\n",
       "            </tr>\n",
       "    </tbody></table>"
      ],
      "text/plain": [
       "<pandas.io.formats.style.Styler at 0x19b66fca610>"
      ]
     },
     "metadata": {},
     "output_type": "display_data"
    }
   ],
   "source": [
    "# Phần code cho yêu cầu 1b\n",
    "# Tìm ra đặc trưng tốt nhất\n",
    "# In ra các kết quả cross-validation như yêu cầu\n",
    "RMSE_Feature = find_best_feature()\n",
    "Pos = 0\n",
    "for i in range(len(RMSE_Feature)):\n",
    "    if (min(RMSE_Feature) == RMSE_Feature[i]):\n",
    "        Pos = i\n",
    "\n",
    "data = list(zip([name for name in listFreature], RMSE_Feature))\n",
    "df = pd.DataFrame(data, columns=['Đặc trưng', 'RMSE'])\n",
    "format_df = df.style.set_properties(**{'text-align': 'center'})\n",
    "format_df =format_df.set_table_styles([dict(selector = 'th', props=[('text-align', 'center')])])\n",
    "display(format_df)"
   ]
  },
  {
   "cell_type": "code",
   "execution_count": 92,
   "metadata": {},
   "outputs": [],
   "source": [
    "# Huấn luyện lại mô hình best_feature_model với đặc trưng tốt nhất trên toàn bộ tập huấn luyện\n",
    "lm = OLSLinearRegression()\n",
    "lm.fit(X_train.iloc[:, Pos].values.reshape(-1, 1), y_train)\n",
    "y_pred = lm.predict(X_test.iloc[:, Pos].values.reshape(-1, 1))\n",
    "hs = lm.get_params()    "
   ]
  },
  {
   "cell_type": "code",
   "execution_count": 93,
   "metadata": {},
   "outputs": [
    {
     "data": {
      "text/plain": [
       "10.260950391655376"
      ]
     },
     "execution_count": 93,
     "metadata": {},
     "output_type": "execute_result"
    }
   ],
   "source": [
    "# Gọi hàm RMSE (tự cài đặt hoặc từ thư viện) trên tập kiểm tra với mô hình best_feature_model\n",
    "rmse(y_test, y_pred)"
   ]
  },
  {
   "cell_type": "code",
   "execution_count": 94,
   "metadata": {},
   "outputs": [
    {
     "name": "stdout",
     "output_type": "stream",
     "text": [
      "Life expectancy =  Schooling  *  5.557399397691922\n"
     ]
    }
   ],
   "source": [
    "print('Life expectancy = ', listFreature[Pos],' * ', hs[-1])"
   ]
  },
  {
   "cell_type": "markdown",
   "metadata": {},
   "source": [
    "Công thức hồi quy\n",
    "\n",
    "$$\\text{Life expectancy} = {Schooling} * 5.5573994$$"
   ]
  },
  {
   "cell_type": "markdown",
   "metadata": {},
   "source": [
    "# Yêu cầu 1c: Sinh viên tự xây dựng mô hình, tìm mô hình cho kết quả tốt nhất (3 điểm)"
   ]
  },
  {
   "cell_type": "markdown",
   "metadata": {},
   "source": [
    "Lưu ý: khi sử dụng cross-validation, sinh viên cần xáo trộn dữ liệu 1 lần duy nhất và thực hiện trên toàn bộ $m$ mô hình mà sinh viên thiết kế"
   ]
  },
  {
   "cell_type": "code",
   "execution_count": 95,
   "metadata": {},
   "outputs": [
    {
     "data": {
      "text/html": [
       "<style  type=\"text/css\" >\n",
       "    #T_bdd355b3_1260_11ed_9381_acd56456cfd4 th {\n",
       "          text-align: center;\n",
       "    }#T_bdd355b3_1260_11ed_9381_acd56456cfd4row0_col0,#T_bdd355b3_1260_11ed_9381_acd56456cfd4row0_col1,#T_bdd355b3_1260_11ed_9381_acd56456cfd4row1_col0,#T_bdd355b3_1260_11ed_9381_acd56456cfd4row1_col1,#T_bdd355b3_1260_11ed_9381_acd56456cfd4row2_col0,#T_bdd355b3_1260_11ed_9381_acd56456cfd4row2_col1{\n",
       "            text-align:  center;\n",
       "        }</style><table id=\"T_bdd355b3_1260_11ed_9381_acd56456cfd4\" ><thead>    <tr>        <th class=\"blank level0\" ></th>        <th class=\"col_heading level0 col0\" >Mô hình</th>        <th class=\"col_heading level0 col1\" >RMSE</th>    </tr></thead><tbody>\n",
       "                <tr>\n",
       "                        <th id=\"T_bdd355b3_1260_11ed_9381_acd56456cfd4level0_row0\" class=\"row_heading level0 row0\" >0</th>\n",
       "                        <td id=\"T_bdd355b3_1260_11ed_9381_acd56456cfd4row0_col0\" class=\"data row0 col0\" >Sử dụng 2 đặc trưng (Adult Mortality, Schooling)</td>\n",
       "                        <td id=\"T_bdd355b3_1260_11ed_9381_acd56456cfd4row0_col1\" class=\"data row0 col1\" >11.190964</td>\n",
       "            </tr>\n",
       "            <tr>\n",
       "                        <th id=\"T_bdd355b3_1260_11ed_9381_acd56456cfd4level0_row1\" class=\"row_heading level0 row1\" >1</th>\n",
       "                        <td id=\"T_bdd355b3_1260_11ed_9381_acd56456cfd4row1_col0\" class=\"data row1 col0\" >Sử dụng 3 đặc trưng (Adult Mortality, BMI, Schooling)</td>\n",
       "                        <td id=\"T_bdd355b3_1260_11ed_9381_acd56456cfd4row1_col1\" class=\"data row1 col1\" >11.152905</td>\n",
       "            </tr>\n",
       "            <tr>\n",
       "                        <th id=\"T_bdd355b3_1260_11ed_9381_acd56456cfd4level0_row2\" class=\"row_heading level0 row2\" >2</th>\n",
       "                        <td id=\"T_bdd355b3_1260_11ed_9381_acd56456cfd4row2_col0\" class=\"data row2 col0\" >Sử dụng 2 đặc trưng (Adult Mortality, Schooling^2)</td>\n",
       "                        <td id=\"T_bdd355b3_1260_11ed_9381_acd56456cfd4row2_col1\" class=\"data row2 col1\" >19.396426</td>\n",
       "            </tr>\n",
       "    </tbody></table>"
      ],
      "text/plain": [
       "<pandas.io.formats.style.Styler at 0x19b65fa2a60>"
      ]
     },
     "metadata": {},
     "output_type": "display_data"
    }
   ],
   "source": [
    "# Phần code cho yêu cầu 1c\n",
    "# Tìm ra mô hình tốt nhất (tự thiết kế bởi sinh viên)\n",
    "# In ra các kết quả cross-validation như yêu cầu\n",
    "RMSE_Model = find_best_model()\n",
    "Pos = 0\n",
    "for i in range(len(RMSE_Model)):\n",
    "    if (min(RMSE_Model) == RMSE_Model[i]):\n",
    "        Pos = i\n",
    "\n",
    "data = list(zip([name for name in listModel], RMSE_Model))\n",
    "df = pd.DataFrame(data, columns=['Mô hình', 'RMSE'])\n",
    "format_df = df.style.set_properties(**{'text-align': 'center'})\n",
    "format_df =format_df.set_table_styles([dict(selector = 'th', props=[('text-align', 'center')])])\n",
    "display(format_df)"
   ]
  },
  {
   "cell_type": "code",
   "execution_count": 96,
   "metadata": {},
   "outputs": [],
   "source": [
    "# Huấn luyện lại mô hình my_best_model trên toàn bộ tập huấn luyện\n",
    "\n",
    "if Pos == 0: # y = Adult Mortality * x1 + Schooling *x2\n",
    "    X_train_model = X_train.iloc[:, [0,9]].copy()\n",
    "    y_train_model = y_train.copy()\n",
    "    X_test_model = X_test.iloc[:, [0,9]].copy()\n",
    "if Pos == 1: # y = Adult Mortality * x1 + BMI * x2 + Schooling *x3\n",
    "    X_train_model = X_train.iloc[:, [0,1,9]].copy()\n",
    "    y_train_model = y_train.copy()\n",
    "    X_test_model = X_test.iloc[:, [0,1,9]].copy()\n",
    "if Pos == 2: # y = Adult Mortality * x1 + Schooling^2 *x2\n",
    "    X_train_model = X_train.iloc[:, [0,9]].copy()\n",
    "    X_train_model.iloc[:,1] = X_train_model.iloc[:, 1] * X_train_model.iloc[:, 1]\n",
    "    y_train_model = y_train.copy()\n",
    "    X_test_model = X_test.iloc[:, [0,9]].copy()\n",
    "    X_test_model.iloc[:,1] = X_test_model.iloc[:, 1] * X_test_model.iloc[:, 1]\n",
    "\n",
    "lm = OLSLinearRegression()\n",
    "lm.fit(X_train_model, y_train_model)    # Huaans luyen\n",
    "y_pred = lm.predict(X_test_model) # \n",
    "hs = lm.get_params()             # lay ra he so \n",
    "        "
   ]
  },
  {
   "cell_type": "code",
   "execution_count": 97,
   "metadata": {},
   "outputs": [
    {
     "data": {
      "text/plain": [
       "9.312027694213468"
      ]
     },
     "execution_count": 97,
     "metadata": {},
     "output_type": "execute_result"
    }
   ],
   "source": [
    "# Gọi hàm RMSE (tự cài đặt hoặc từ thư viện) trên tập kiểm tra với mô hình my_best_model\n",
    "rmse(y_test, y_pred)"
   ]
  },
  {
   "cell_type": "code",
   "execution_count": 98,
   "metadata": {},
   "outputs": [
    {
     "name": "stdout",
     "output_type": "stream",
     "text": [
      "Life expectancy =  Adult Mortality  *  0.02801217213290835  +  BMI  *  0.06604903698389963  +  Schooling  *  5.004187374704645\n"
     ]
    }
   ],
   "source": [
    "if Pos == 0:\n",
    "    print('Life expectancy = ', listFreature[0],' * ', hs[0], ' + ', listFreature[9],' * ', hs[1])\n",
    "if Pos == 1:\n",
    "    print('Life expectancy = ', listFreature[0],' * ', hs[0], ' + ', listFreature[1],' * ', hs[1], ' + ', listFreature[9],' * ', hs[2])\n",
    "if Pos == 2:\n",
    "    print('Life expectancy = ', listFreature[0],' * ', hs[0], ' + ', listFreature[9],'^2 * ', hs[1])"
   ]
  },
  {
   "cell_type": "markdown",
   "metadata": {},
   "source": [
    "Công thức hồi quy\n",
    "\n",
    "$$\\text{Life expectancy} = {Adult Mortality} * 0.028012 + {BMI} * 0.066049 + {Schooling} * 5.004187$$"
   ]
  }
 ],
 "metadata": {
  "kernelspec": {
   "display_name": "Python 3.8.5 ('base')",
   "language": "python",
   "name": "python3"
  },
  "language_info": {
   "codemirror_mode": {
    "name": "ipython",
    "version": 3
   },
   "file_extension": ".py",
   "mimetype": "text/x-python",
   "name": "python",
   "nbconvert_exporter": "python",
   "pygments_lexer": "ipython3",
   "version": "3.8.5"
  },
  "orig_nbformat": 4,
  "vscode": {
   "interpreter": {
    "hash": "ad2bdc8ecc057115af97d19610ffacc2b4e99fae6737bb82f5d7fb13d2f2c186"
   }
  }
 },
 "nbformat": 4,
 "nbformat_minor": 2
}
